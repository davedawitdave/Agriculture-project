{
 "cells": [
  {
   "cell_type": "markdown",
   "id": "83b92e75",
   "metadata": {},
   "source": [
    "## Building the Data Pipeline\n",
    "In this notebook, we'll be building a data pipeline to preprocess and clean the farm survey data. The data includes various geographic, weather, soil, and crop management features for different fields.\n",
    "\n",
    "Project Structure\n",
    "The project directory structure is as follows:"
   ]
  },
  {
   "cell_type": "raw",
   "id": "721f3071",
   "metadata": {},
   "source": [
    "project_folder/\n",
    "│\n",
    "├── model/\n",
    "│   └── models.ipynb\n",
    "│\n",
    "├── script/\n",
    "│   ├── __init__.py\n",
    "│   └── preprocessing.py\n",
    "│\n",
    "└── data/\n",
    "    ├── Weather_station_data.csv\n",
    "    ├── Weather_data_field_mapping.csv\n",
    "    └── Maji_Ndogo_farm_survey_small.db"
   ]
  },
  {
   "cell_type": "markdown",
   "id": "de11984b",
   "metadata": {},
   "source": [
    "- `model/`: Directory containing the notebook for building predictive models.\n",
    "- `script/`: Directory containing Python scripts for data preprocessing.\n",
    "- `data/`: Directory containing raw data files and the SQLite database.\n",
    "\n",
    "## Preprocessing Steps\n",
    "\n",
    "### 1. Import Required Libraries\n",
    "\n",
    "We begin by importing the necessary Python libraries for data preprocessing.\n",
    "\n",
    "```python\n",
    "import re\n",
    "import numpy as np\n",
    "import pandas as pd\n",
    "import os\n",
    "import sys\n",
    "import logging\n",
    "from preprocessing import FieldDataProcessor\n"
   ]
  },
  {
   "cell_type": "code",
   "execution_count": 9,
   "id": "8b7b4226",
   "metadata": {},
   "outputs": [],
   "source": [
    "import re\n",
    "import numpy as np\n",
    "import pandas as pd\n",
    "import os\n",
    "import sys\n",
    "import logging\n",
    "from preprocessing import FieldDataProcessor"
   ]
  },
  {
   "cell_type": "markdown",
   "id": "e335e1ac",
   "metadata": {},
   "source": [
    "### 2. Set up Project Directory Paths\n",
    "We define the paths to the project directories, including the data directory where our raw data is stored."
   ]
  },
  {
   "cell_type": "code",
   "execution_count": 10,
   "id": "ae573e04",
   "metadata": {},
   "outputs": [],
   "source": [
    "notebook_dir = os.getcwd()\n",
    "project_dir = os.path.dirname(notebook_dir)\n",
    "data_dir = os.path.join(project_dir, 'data')"
   ]
  },
  {
   "cell_type": "markdown",
   "id": "a8744b29",
   "metadata": {},
   "source": [
    "### 3. Configure Database Connection\n",
    "We specify the database URL for connecting to the SQLite database file containing the farm survey data."
   ]
  },
  {
   "cell_type": "code",
   "execution_count": 11,
   "id": "e6e8f0b8",
   "metadata": {},
   "outputs": [],
   "source": [
    "db_file_path = os.path.join(data_dir, 'Maji_Ndogo_farm_survey_small.db')\n",
    "db_url = f\"sqlite:///{db_file_path}\"\n"
   ]
  },
  {
   "cell_type": "markdown",
   "id": "aa4dc346",
   "metadata": {},
   "source": [
    "### 4. Define Preprocessing Parameters\n",
    "We set up configuration parameters for preprocessing, including SQL queries, file paths, and regex patterns."
   ]
  },
  {
   "cell_type": "code",
   "execution_count": 13,
   "id": "dedefd5d",
   "metadata": {},
   "outputs": [],
   "source": [
    "config_params = {\n",
    "    \"sql_query\": \"\"\"\n",
    "            SELECT *\n",
    "            FROM geographic_features\n",
    "            LEFT JOIN weather_features USING (Field_ID)\n",
    "            LEFT JOIN soil_and_crop_features USING (Field_ID)\n",
    "            LEFT JOIN farm_management_features USING (Field_ID)\n",
    "            \"\"\",\n",
    "    \"db_path\": db_url,\n",
    "    \"columns_to_rename\": {'Annual_yield': 'Crop_type', 'Crop_type': 'Annual_yield'},\n",
    "    \"values_to_rename\": {'cassaval': 'cassava', 'wheatn': 'wheat', 'teaa': 'tea'},\n",
    "    \"weather_csv_path\": os.path.join(data_dir, \"Weather_station_data.csv\"),\n",
    "    \"weather_mapping_csv\": os.path.join(data_dir, \"Weather_data_field_mapping.csv\"),\n",
    "    \"regex_patterns\" : {\n",
    "            'Rainfall': r'(\\d+(\\.\\d+)?)\\s?mm',\n",
    "            'Temperature': r'(\\d+(\\.\\d+)?)\\s?C',\n",
    "            'Pollution_level': r'=\\s*(-?\\d+(\\.\\d+)?)|Pollution at \\s*(-?\\d+(\\.\\d+)?)'\n",
    "            },\n",
    "}\n"
   ]
  },
  {
   "cell_type": "markdown",
   "id": "53c02dcc",
   "metadata": {},
   "source": [
    "### 5. Preprocess the Data\n",
    "We instantiate a FieldDataProcessor object with the configuration parameters and perform the data preprocessing steps."
   ]
  },
  {
   "cell_type": "code",
   "execution_count": 14,
   "id": "0d8c98c6",
   "metadata": {},
   "outputs": [
    {
     "name": "stderr",
     "output_type": "stream",
     "text": [
      "2024-03-30 12:31:37,311 - data_ingestion - INFO - Database engine created successfully.\n",
      "2024-03-30 12:31:37,401 - data_ingestion - INFO - Query executed successfully.\n",
      "2024-03-30 12:31:37,402 - preprocessing.FieldDataProcessor - INFO - Sucessfully loaded data.\n",
      "2024-03-30 12:31:37,405 - preprocessing.FieldDataProcessor - INFO - Swapped columns: Annual_yield with Crop_type\n",
      "2024-03-30 12:31:37,417 - data_ingestion - INFO - CSV data ingested successfully.\n"
     ]
    }
   ],
   "source": [
    "field_processor = FieldDataProcessor(config_params)\n",
    "field_processor.process()\n",
    "field_df = field_processor.df\n"
   ]
  },
  {
   "cell_type": "markdown",
   "id": "acfc5136",
   "metadata": {},
   "source": [
    "### 6. Save Cleaned Data\n",
    "Finally, we save the preprocessed DataFrame to a CSV file in the data directory."
   ]
  },
  {
   "cell_type": "code",
   "execution_count": 15,
   "id": "174e40c3",
   "metadata": {},
   "outputs": [],
   "source": [
    "output_csv_path = os.path.join(data_dir, 'clean_field_data.csv')\n",
    "field_df.to_csv(output_csv_path, index=False)\n"
   ]
  },
  {
   "cell_type": "code",
   "execution_count": null,
   "id": "94915ba9",
   "metadata": {},
   "outputs": [],
   "source": []
  }
 ],
 "metadata": {
  "kernelspec": {
   "display_name": "Python 3 (ipykernel)",
   "language": "python",
   "name": "python3"
  },
  "language_info": {
   "codemirror_mode": {
    "name": "ipython",
    "version": 3
   },
   "file_extension": ".py",
   "mimetype": "text/x-python",
   "name": "python",
   "nbconvert_exporter": "python",
   "pygments_lexer": "ipython3",
   "version": "3.9.13"
  }
 },
 "nbformat": 4,
 "nbformat_minor": 5
}
